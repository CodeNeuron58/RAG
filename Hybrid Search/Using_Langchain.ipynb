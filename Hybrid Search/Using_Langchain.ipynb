{
 "cells": [
  {
   "cell_type": "code",
   "execution_count": null,
   "id": "e2c8db63",
   "metadata": {},
   "outputs": [],
   "source": [
    "# 🔹 Step 1: Load PDF and Split into Text Chunks"
   ]
  },
  {
   "cell_type": "code",
   "execution_count": null,
   "id": "0995dac7",
   "metadata": {},
   "outputs": [],
   "source": [
    "from langchain_community.document_loaders import PyPDFLoader\n",
    "from langchain_text_splitters import RecursiveCharacterTextSplitter\n",
    "\n",
    "# Path to your document\n",
    "doc_path = \"my_pdf.pdf\"\n",
    "\n",
    "# Load PDF file\n",
    "loader = PyPDFLoader(doc_path)\n",
    "docs = loader.load()"
   ]
  },
  {
   "cell_type": "code",
   "execution_count": null,
   "id": "1a09a00d",
   "metadata": {},
   "outputs": [],
   "source": [
    "# Split the text into manageable chunks\n",
    "splitter = RecursiveCharacterTextSplitter(\n",
    "    chunk_size=200,      # Each chunk will have 200 characters\n",
    "    chunk_overlap=30     # Overlap between consecutive chunks\n",
    ")\n",
    "chunks = splitter.split_documents(docs)\n",
    "\n",
    "chunks[:2]  # View first few chunks\n"
   ]
  },
  {
   "cell_type": "code",
   "execution_count": null,
   "id": "616b798c",
   "metadata": {},
   "outputs": [],
   "source": [
    "# ⚙️ Embeddings and Vector Store"
   ]
  },
  {
   "cell_type": "code",
   "execution_count": null,
   "id": "9b889095",
   "metadata": {},
   "outputs": [],
   "source": [
    "from dotenv import load_dotenv\n",
    "load_dotenv()\n",
    "\n",
    "import os\n",
    "\n",
    "# Hugging Face API token\n",
    "HF_TOKEN = os.getenv(\"HF_TOKEN\")\n",
    "if not HF_TOKEN:\n",
    "    raise ValueError(\"HF_TOKEN not found in .env file or environment\")"
   ]
  },
  {
   "cell_type": "code",
   "execution_count": null,
   "id": "035fa736",
   "metadata": {},
   "outputs": [],
   "source": [
    "# 🔤 Step 4: Initialize HuggingFace Embeddings\n",
    "from langchain_huggingface import HuggingFaceInferenceAPIEmbeddings\n",
    "\n",
    "# Load embeddings model from HuggingFace\n",
    "embeddings = HuggingFaceInferenceAPIEmbeddings(\n",
    "    api_key=HF_TOKEN,\n",
    "    model_name=\"BAAI/bge-base-en-v1.5\"\n",
    ")\n"
   ]
  },
  {
   "cell_type": "code",
   "execution_count": null,
   "id": "fdbb5876",
   "metadata": {},
   "outputs": [],
   "source": [
    "# 💾 Step 5: Create a Chroma vector store\n",
    "from langchain_chroma import Chroma\n",
    "\n",
    "# Store document embeddings in Chroma for semantic retrieval\n",
    "vectorstore = Chroma.from_documents(chunks, embeddings)\n",
    "\n",
    "# Create a retriever to fetch the top 3 most relevant documents\n",
    "vectorstore_retriever = vectorstore.as_retriever(search_kwargs={\"k\": 3})\n",
    "vectorstore_retriever\n"
   ]
  },
  {
   "cell_type": "code",
   "execution_count": null,
   "id": "113f16a2",
   "metadata": {},
   "outputs": [],
   "source": [
    "# 🔍 Hybrid Search: Combining Vector and Keyword Retrieval"
   ]
  },
  {
   "cell_type": "code",
   "execution_count": null,
   "id": "91cb6196",
   "metadata": {},
   "outputs": [],
   "source": [
    "# 📦 Step 6: Install and import BM25 for keyword-based retrieval\n",
    "# %pip install rank_bm25\n",
    "\n",
    "from langchain.retrievers import EnsembleRetriever\n",
    "from langchain_community.retrievers import BM25Retriever\n",
    "\n",
    "# Create a BM25 keyword retriever\n",
    "keyword_retriever = BM25Retriever.from_documents(chunks)\n",
    "keyword_retriever.k = 3  # number of documents to retrieve\n",
    "\n",
    "# Combine vector-based and keyword-based retrievers\n",
    "ensemble_retriever = EnsembleRetriever(\n",
    "    retrievers=[vectorstore_retriever, keyword_retriever],\n",
    "    weights=[0.3, 0.7]  # weighted combination for hybrid retrieval\n",
    ")\n"
   ]
  },
  {
   "cell_type": "code",
   "execution_count": null,
   "id": "5ef1dbbf",
   "metadata": {},
   "outputs": [],
   "source": [
    "# 🧮 Hybrid search formula reference:\n",
    "# hybrid_score = (1 - alpha) * sparse_score + alpha * dense_score"
   ]
  },
  {
   "cell_type": "code",
   "execution_count": null,
   "id": "d3c9be37",
   "metadata": {},
   "outputs": [],
   "source": [
    "# 🧩 Model Setup — Loading a 4-bit Quantized Language Model"
   ]
  },
  {
   "cell_type": "code",
   "execution_count": null,
   "id": "bbeab50c",
   "metadata": {},
   "outputs": [],
   "source": [
    "# 📦 Step 7: Install dependencies for quantized model loading\n",
    "# %pip install bitsandbytes\n",
    "# %pip install accelerate"
   ]
  },
  {
   "cell_type": "code",
   "execution_count": null,
   "id": "638d28b0",
   "metadata": {},
   "outputs": [],
   "source": [
    "# ⚡ Step 8: Load Zephyr-7B-Beta model in 4-bit quantized mode\n",
    "import torch\n",
    "\n",
    "from transformers import (\n",
    "    AutoModelForCausalLM,\n",
    "    AutoTokenizer,\n",
    "    BitsAndBytesConfig,\n",
    "    pipeline,\n",
    ")\n",
    "from langchain_huggingface import HuggingFacePipeline\n",
    "\n",
    "# Function to load a quantized model efficiently\n",
    "def load_quantized_model(model_name: str):\n",
    "    \"\"\"\n",
    "    Load a transformer model in 4-bit quantized mode for memory efficiency.\n",
    "    \"\"\"\n",
    "    bnb_config = BitsAndBytesConfig(\n",
    "        load_in_4bit=True,\n",
    "        bnb_4bit_use_double_quant=True,\n",
    "        bnb_4bit_quant_type=\"nf4\",\n",
    "        bnb_4bit_compute_dtype=torch.bfloat16,\n",
    "    )\n",
    "\n",
    "    model = AutoModelForCausalLM.from_pretrained(\n",
    "        model_name,\n",
    "        torch_dtype=torch.bfloat16,\n",
    "        quantization_config=bnb_config,\n",
    "    )\n",
    "    return model\n"
   ]
  },
  {
   "cell_type": "code",
   "execution_count": null,
   "id": "0da43a88",
   "metadata": {},
   "outputs": [],
   "source": [
    "# Function to initialize a tokenizer\n",
    "def initialize_tokenizer(model_name: str):\n",
    "    \"\"\"\n",
    "    Initialize a tokenizer for the given model.\n",
    "    \"\"\"\n",
    "    tokenizer = AutoTokenizer.from_pretrained(model_name, return_token_type_ids=False)\n",
    "    tokenizer.bos_token_id = 1  # set beginning-of-sentence token\n",
    "    return tokenizer\n"
   ]
  },
  {
   "cell_type": "code",
   "execution_count": null,
   "id": "e6187f06",
   "metadata": {},
   "outputs": [],
   "source": [
    "# 🔧 Step 9: Initialize model and tokenizer\n",
    "model_name = \"HuggingFaceH4/zephyr-7b-beta\"\n",
    "\n",
    "tokenizer = initialize_tokenizer(model_name)\n",
    "model = load_quantized_model(model_name)\n"
   ]
  },
  {
   "cell_type": "code",
   "execution_count": null,
   "id": "fa4b4787",
   "metadata": {},
   "outputs": [],
   "source": [
    "# 🧠 Building the Text Generation Pipeline"
   ]
  },
  {
   "cell_type": "code",
   "execution_count": null,
   "id": "08cc8d1f",
   "metadata": {},
   "outputs": [],
   "source": [
    "# ⚙️ Step 10: Create a text generation pipeline\n",
    "pipeline = pipeline(\n",
    "    \"text-generation\",\n",
    "    model=model,\n",
    "    tokenizer=tokenizer,\n",
    "    use_cache=True,\n",
    "    device_map=\"auto\",\n",
    "    max_length=2048,\n",
    "    do_sample=True,\n",
    "    top_k=5,\n",
    "    num_return_sequences=1,\n",
    "    eos_token_id=tokenizer.eos_token_id,\n",
    "    pad_token_id=tokenizer.pad_token_id,\n",
    ")\n",
    "\n",
    "# Wrap the pipeline with LangChain's LLM interface\n",
    "llm = HuggingFacePipeline(pipeline=pipeline)\n"
   ]
  },
  {
   "cell_type": "code",
   "execution_count": null,
   "id": "f9879615",
   "metadata": {},
   "outputs": [],
   "source": [
    "# 🔗 Building Retrieval-Augmented QA Chains"
   ]
  },
  {
   "cell_type": "code",
   "execution_count": null,
   "id": "245d42c1",
   "metadata": {},
   "outputs": [],
   "source": [
    "# 🔍 Step 11: Create normal (vector-based) and hybrid RAG chains\n",
    "from langchain.chains import RetrievalQA\n",
    "\n",
    "# Standard vector-based RAG\n",
    "normal_chain = RetrievalQA.from_chain_type(\n",
    "    llm=llm,\n",
    "    chain_type=\"stuff\",\n",
    "    retriever=vectorstore_retriever,\n",
    ")\n",
    "\n",
    "# Hybrid RAG combining dense + sparse retrieval\n",
    "hybrid_chain = RetrievalQA.from_chain_type(\n",
    "    llm=llm,\n",
    "    chain_type=\"stuff\",\n",
    "    retriever=ensemble_retriever,\n",
    ")\n"
   ]
  },
  {
   "cell_type": "code",
   "execution_count": null,
   "id": "7433dd14",
   "metadata": {},
   "outputs": [],
   "source": [
    "# 💬 Testing the RAG System"
   ]
  },
  {
   "cell_type": "code",
   "execution_count": null,
   "id": "5239d134",
   "metadata": {},
   "outputs": [],
   "source": [
    "# 🧩 Step 12: Query using vector-based retriever\n",
    "response1 = normal_chain.invoke(\"What is Abstractive Question Answering?\")\n",
    "print(response1.get(\"result\"))\n"
   ]
  },
  {
   "cell_type": "code",
   "execution_count": null,
   "id": "ba0b7e20",
   "metadata": {},
   "outputs": [],
   "source": [
    "# 🧠 Step 13: Query using hybrid (vector + keyword) retriever\n",
    "response2 = hybrid_chain.invoke(\"What is Abstractive Question Answering?\")\n",
    "print(response2.get(\"result\"))\n"
   ]
  }
 ],
 "metadata": {
  "kernelspec": {
   "display_name": "venv",
   "language": "python",
   "name": "python3"
  },
  "language_info": {
   "codemirror_mode": {
    "name": "ipython",
    "version": 3
   },
   "file_extension": ".py",
   "mimetype": "text/x-python",
   "name": "python",
   "nbconvert_exporter": "python",
   "pygments_lexer": "ipython3",
   "version": "3.12.10"
  }
 },
 "nbformat": 4,
 "nbformat_minor": 5
}
